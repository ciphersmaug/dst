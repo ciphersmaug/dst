{
 "cells": [
  {
   "cell_type": "markdown",
   "metadata": {},
   "source": [
    "# Exercise 3: Dynamic Page Web crawling\n",
    "Retrieve the average prices of intercity bus connections between the largest k = 5, 10, 50\n",
    "German cities based on the website\n",
    "https://global.flixbus.com/.\n",
    "\n",
    "*Add on:* Visualize this data as a network plot."
   ]
  },
  {
   "cell_type": "markdown",
   "metadata": {},
   "source": [
    "### How to get the largest Cities:\n",
    "Destatis has that data in xlsx format for all german cities:\n",
    "https://www.destatis.de/DE/Themen/Laender-Regionen/Regionales/Gemeindeverzeichnis/Administrativ/05-staedte.html"
   ]
  },
  {
   "cell_type": "code",
   "execution_count": 24,
   "metadata": {},
   "outputs": [
    {
     "data": {
      "text/html": [
       "<div>\n",
       "<style scoped>\n",
       "    .dataframe tbody tr th:only-of-type {\n",
       "        vertical-align: middle;\n",
       "    }\n",
       "\n",
       "    .dataframe tbody tr th {\n",
       "        vertical-align: top;\n",
       "    }\n",
       "\n",
       "    .dataframe thead th {\n",
       "        text-align: right;\n",
       "    }\n",
       "</style>\n",
       "<table border=\"1\" class=\"dataframe\">\n",
       "  <thead>\n",
       "    <tr style=\"text-align: right;\">\n",
       "      <th></th>\n",
       "      <th>nr</th>\n",
       "      <th>land</th>\n",
       "      <th>rb</th>\n",
       "      <th>kreis</th>\n",
       "      <th>verb</th>\n",
       "      <th>gem</th>\n",
       "      <th>stadtbezeichnung</th>\n",
       "      <th>plz</th>\n",
       "      <th>flaeche</th>\n",
       "      <th>einwohner</th>\n",
       "      <th>mann</th>\n",
       "      <th>frau</th>\n",
       "      <th>dichte</th>\n",
       "      <th>stadt</th>\n",
       "    </tr>\n",
       "  </thead>\n",
       "  <tbody>\n",
       "    <tr>\n",
       "      <th>1</th>\n",
       "      <td>1</td>\n",
       "      <td>11.0</td>\n",
       "      <td>0.0</td>\n",
       "      <td>0.0</td>\n",
       "      <td>0.0</td>\n",
       "      <td>0.0</td>\n",
       "      <td>Berlin, Stadt</td>\n",
       "      <td>10178.0</td>\n",
       "      <td>891.12</td>\n",
       "      <td>3664088.0</td>\n",
       "      <td>1802038.0</td>\n",
       "      <td>1862050.0</td>\n",
       "      <td>4112.0</td>\n",
       "      <td>Berlin</td>\n",
       "    </tr>\n",
       "    <tr>\n",
       "      <th>2</th>\n",
       "      <td>2</td>\n",
       "      <td>2.0</td>\n",
       "      <td>0.0</td>\n",
       "      <td>0.0</td>\n",
       "      <td>0.0</td>\n",
       "      <td>0.0</td>\n",
       "      <td>Hamburg, Freie und Hansestadt</td>\n",
       "      <td>20038.0</td>\n",
       "      <td>755.09</td>\n",
       "      <td>1852478.0</td>\n",
       "      <td>906933.0</td>\n",
       "      <td>945545.0</td>\n",
       "      <td>2453.0</td>\n",
       "      <td>Hamburg</td>\n",
       "    </tr>\n",
       "    <tr>\n",
       "      <th>3</th>\n",
       "      <td>3</td>\n",
       "      <td>9.0</td>\n",
       "      <td>1.0</td>\n",
       "      <td>62.0</td>\n",
       "      <td>0.0</td>\n",
       "      <td>0.0</td>\n",
       "      <td>München, Landeshauptstadt</td>\n",
       "      <td>80313.0</td>\n",
       "      <td>310.70</td>\n",
       "      <td>1488202.0</td>\n",
       "      <td>725905.0</td>\n",
       "      <td>762297.0</td>\n",
       "      <td>4790.0</td>\n",
       "      <td>München</td>\n",
       "    </tr>\n",
       "    <tr>\n",
       "      <th>4</th>\n",
       "      <td>4</td>\n",
       "      <td>5.0</td>\n",
       "      <td>3.0</td>\n",
       "      <td>15.0</td>\n",
       "      <td>0.0</td>\n",
       "      <td>0.0</td>\n",
       "      <td>Köln, Stadt</td>\n",
       "      <td>50667.0</td>\n",
       "      <td>405.01</td>\n",
       "      <td>1083498.0</td>\n",
       "      <td>528075.0</td>\n",
       "      <td>555423.0</td>\n",
       "      <td>2675.0</td>\n",
       "      <td>Köln</td>\n",
       "    </tr>\n",
       "    <tr>\n",
       "      <th>5</th>\n",
       "      <td>5</td>\n",
       "      <td>6.0</td>\n",
       "      <td>4.0</td>\n",
       "      <td>12.0</td>\n",
       "      <td>0.0</td>\n",
       "      <td>0.0</td>\n",
       "      <td>Frankfurt am Main, Stadt</td>\n",
       "      <td>60311.0</td>\n",
       "      <td>248.31</td>\n",
       "      <td>764104.0</td>\n",
       "      <td>377199.0</td>\n",
       "      <td>386905.0</td>\n",
       "      <td>3077.0</td>\n",
       "      <td>Frankfurt am Main</td>\n",
       "    </tr>\n",
       "  </tbody>\n",
       "</table>\n",
       "</div>"
      ],
      "text/plain": [
       "   nr  land   rb  kreis  verb  gem               stadtbezeichnung      plz  \\\n",
       "1   1  11.0  0.0    0.0   0.0  0.0                  Berlin, Stadt  10178.0   \n",
       "2   2   2.0  0.0    0.0   0.0  0.0  Hamburg, Freie und Hansestadt  20038.0   \n",
       "3   3   9.0  1.0   62.0   0.0  0.0      München, Landeshauptstadt  80313.0   \n",
       "4   4   5.0  3.0   15.0   0.0  0.0                    Köln, Stadt  50667.0   \n",
       "5   5   6.0  4.0   12.0   0.0  0.0       Frankfurt am Main, Stadt  60311.0   \n",
       "\n",
       "   flaeche  einwohner       mann       frau  dichte              stadt  \n",
       "1   891.12  3664088.0  1802038.0  1862050.0  4112.0             Berlin  \n",
       "2   755.09  1852478.0   906933.0   945545.0  2453.0            Hamburg  \n",
       "3   310.70  1488202.0   725905.0   762297.0  4790.0            München  \n",
       "4   405.01  1083498.0   528075.0   555423.0  2675.0               Köln  \n",
       "5   248.31   764104.0   377199.0   386905.0  3077.0  Frankfurt am Main  "
      ]
     },
     "execution_count": 24,
     "metadata": {},
     "output_type": "execute_result"
    }
   ],
   "source": [
    "#Load the top n cities to do this:\n",
    "import pandas as pd\n",
    "df = pd.read_excel(\"05-staedte.xlsx\",1,header=5).dropna(how=\"any\")\n",
    "\n",
    "def get_city_name(row:pd.Series)->pd.Series:\n",
    "    row[14] = row[7].split(\",\")[0]\n",
    "    return row\n",
    "df = df.apply(get_city_name,axis=1)\n",
    "df = df.rename(columns={1:\"nr\",2:\"land\",3:\"rb\",4:\"kreis\",5:\"verb\",6:\"gem\",7:\"stadtbezeichnung\",8:\"plz\",9:\"flaeche\",10:\"einwohner\",11:\"mann\",12:\"frau\",13:\"dichte\",14:\"stadt\"})\n",
    "n = 5\n",
    "top_n_df = df.sort_values(by=\"einwohner\",ascending=False).head(n)\n",
    "top_n_df\n"
   ]
  },
  {
   "cell_type": "markdown",
   "metadata": {},
   "source": [
    "### How to define the average price between these cities? \n",
    "I define the average price as the average price a customer has to pay if he wants to travel within the next two weeks with flixbus as the price seems to differ based on the weekday and on how much in advance a customer books a ticket. Two weeks seems to be enough of a time to cancel out the premium price for late bookings and also seems to cancel out weekday-dependent price differences\n",
    "\n",
    "Direction needs to be taken into account as the price differs between directions"
   ]
  },
  {
   "cell_type": "code",
   "execution_count": 65,
   "metadata": {},
   "outputs": [],
   "source": [
    "from selenium import webdriver\n",
    "from selenium.webdriver.common.keys import Keys\n",
    "from selenium.webdriver.common.by import By\n",
    "\n",
    "driver = webdriver.Firefox()\n",
    "driver.get(\"https://www.flixbus.de/\")\n"
   ]
  },
  {
   "cell_type": "code",
   "execution_count": 66,
   "metadata": {},
   "outputs": [],
   "source": [
    "#Get rid of cookie modal. selenium had its isssues. this is the only workaround i could find...\n",
    "webdriver.ActionChains(driver).move_by_offset(475,500).click().perform()"
   ]
  },
  {
   "cell_type": "code",
   "execution_count": 59,
   "metadata": {},
   "outputs": [
    {
     "name": "stdout",
     "output_type": "stream",
     "text": [
      "\n",
      "\n",
      "Verbindung suchen\n"
     ]
    },
    {
     "ename": "ElementNotInteractableException",
     "evalue": "Message: Element <iframe id=\"uc-cross-domain-bridge\" src=\"https://app.usercentrics.eu/browser-sdk/4.0.0/cross-domain-bridge.html\"> could not be scrolled into view\nStacktrace:\nWebDriverError@chrome://remote/content/shared/webdriver/Errors.jsm:183:5\nElementNotInteractableError@chrome://remote/content/shared/webdriver/Errors.jsm:293:5\nwebdriverClickElement@chrome://remote/content/marionette/interaction.js:156:11\ninteraction.clickElement@chrome://remote/content/marionette/interaction.js:125:11\nclickElement@chrome://remote/content/marionette/actors/MarionetteCommandsChild.jsm:203:24\nreceiveMessage@chrome://remote/content/marionette/actors/MarionetteCommandsChild.jsm:91:31\n",
     "output_type": "error",
     "traceback": [
      "\u001b[0;31m---------------------------------------------------------------------------\u001b[0m",
      "\u001b[0;31mElementNotInteractableException\u001b[0m           Traceback (most recent call last)",
      "\u001b[1;32m/home/s1lex/Documents/Study/dst/b/exercise-3.ipynb Cell 6'\u001b[0m in \u001b[0;36m<cell line: 7>\u001b[0;34m()\u001b[0m\n\u001b[1;32m      <a href='vscode-notebook-cell:/home/s1lex/Documents/Study/dst/b/exercise-3.ipynb#ch0000007?line=3'>4</a>\u001b[0m     \u001b[39mprint\u001b[39m(btn\u001b[39m.\u001b[39mtext)\n\u001b[1;32m      <a href='vscode-notebook-cell:/home/s1lex/Documents/Study/dst/b/exercise-3.ipynb#ch0000007?line=4'>5</a>\u001b[0m \u001b[39m#btns[2].click()\u001b[39;00m\n\u001b[1;32m      <a href='vscode-notebook-cell:/home/s1lex/Documents/Study/dst/b/exercise-3.ipynb#ch0000007?line=5'>6</a>\u001b[0m \u001b[39m#/div/div/div/div/div[2]/div/div[2]/div/div/div/button[1]\u001b[39;00m\n\u001b[0;32m----> <a href='vscode-notebook-cell:/home/s1lex/Documents/Study/dst/b/exercise-3.ipynb#ch0000007?line=6'>7</a>\u001b[0m driver\u001b[39m.\u001b[39;49mfind_elements(By\u001b[39m.\u001b[39;49mXPATH,value \u001b[39m=\u001b[39;49m \u001b[39m\"\u001b[39;49m\u001b[39m//iframe\u001b[39;49m\u001b[39m\"\u001b[39;49m)[\u001b[39m0\u001b[39;49m]\u001b[39m.\u001b[39;49mclick()\n",
      "File \u001b[0;32m~/Documents/Study/dst/env/lib64/python3.10/site-packages/selenium/webdriver/remote/webelement.py:81\u001b[0m, in \u001b[0;36mWebElement.click\u001b[0;34m(self)\u001b[0m\n\u001b[1;32m     <a href='file:///home/s1lex/Documents/Study/dst/env/lib64/python3.10/site-packages/selenium/webdriver/remote/webelement.py?line=78'>79</a>\u001b[0m \u001b[39mdef\u001b[39;00m \u001b[39mclick\u001b[39m(\u001b[39mself\u001b[39m) \u001b[39m-\u001b[39m\u001b[39m>\u001b[39m \u001b[39mNone\u001b[39;00m:\n\u001b[1;32m     <a href='file:///home/s1lex/Documents/Study/dst/env/lib64/python3.10/site-packages/selenium/webdriver/remote/webelement.py?line=79'>80</a>\u001b[0m     \u001b[39m\"\"\"Clicks the element.\"\"\"\u001b[39;00m\n\u001b[0;32m---> <a href='file:///home/s1lex/Documents/Study/dst/env/lib64/python3.10/site-packages/selenium/webdriver/remote/webelement.py?line=80'>81</a>\u001b[0m     \u001b[39mself\u001b[39;49m\u001b[39m.\u001b[39;49m_execute(Command\u001b[39m.\u001b[39;49mCLICK_ELEMENT)\n",
      "File \u001b[0;32m~/Documents/Study/dst/env/lib64/python3.10/site-packages/selenium/webdriver/remote/webelement.py:710\u001b[0m, in \u001b[0;36mWebElement._execute\u001b[0;34m(self, command, params)\u001b[0m\n\u001b[1;32m    <a href='file:///home/s1lex/Documents/Study/dst/env/lib64/python3.10/site-packages/selenium/webdriver/remote/webelement.py?line=707'>708</a>\u001b[0m     params \u001b[39m=\u001b[39m {}\n\u001b[1;32m    <a href='file:///home/s1lex/Documents/Study/dst/env/lib64/python3.10/site-packages/selenium/webdriver/remote/webelement.py?line=708'>709</a>\u001b[0m params[\u001b[39m'\u001b[39m\u001b[39mid\u001b[39m\u001b[39m'\u001b[39m] \u001b[39m=\u001b[39m \u001b[39mself\u001b[39m\u001b[39m.\u001b[39m_id\n\u001b[0;32m--> <a href='file:///home/s1lex/Documents/Study/dst/env/lib64/python3.10/site-packages/selenium/webdriver/remote/webelement.py?line=709'>710</a>\u001b[0m \u001b[39mreturn\u001b[39;00m \u001b[39mself\u001b[39;49m\u001b[39m.\u001b[39;49m_parent\u001b[39m.\u001b[39;49mexecute(command, params)\n",
      "File \u001b[0;32m~/Documents/Study/dst/env/lib64/python3.10/site-packages/selenium/webdriver/remote/webdriver.py:425\u001b[0m, in \u001b[0;36mWebDriver.execute\u001b[0;34m(self, driver_command, params)\u001b[0m\n\u001b[1;32m    <a href='file:///home/s1lex/Documents/Study/dst/env/lib64/python3.10/site-packages/selenium/webdriver/remote/webdriver.py?line=422'>423</a>\u001b[0m response \u001b[39m=\u001b[39m \u001b[39mself\u001b[39m\u001b[39m.\u001b[39mcommand_executor\u001b[39m.\u001b[39mexecute(driver_command, params)\n\u001b[1;32m    <a href='file:///home/s1lex/Documents/Study/dst/env/lib64/python3.10/site-packages/selenium/webdriver/remote/webdriver.py?line=423'>424</a>\u001b[0m \u001b[39mif\u001b[39;00m response:\n\u001b[0;32m--> <a href='file:///home/s1lex/Documents/Study/dst/env/lib64/python3.10/site-packages/selenium/webdriver/remote/webdriver.py?line=424'>425</a>\u001b[0m     \u001b[39mself\u001b[39;49m\u001b[39m.\u001b[39;49merror_handler\u001b[39m.\u001b[39;49mcheck_response(response)\n\u001b[1;32m    <a href='file:///home/s1lex/Documents/Study/dst/env/lib64/python3.10/site-packages/selenium/webdriver/remote/webdriver.py?line=425'>426</a>\u001b[0m     response[\u001b[39m'\u001b[39m\u001b[39mvalue\u001b[39m\u001b[39m'\u001b[39m] \u001b[39m=\u001b[39m \u001b[39mself\u001b[39m\u001b[39m.\u001b[39m_unwrap_value(\n\u001b[1;32m    <a href='file:///home/s1lex/Documents/Study/dst/env/lib64/python3.10/site-packages/selenium/webdriver/remote/webdriver.py?line=426'>427</a>\u001b[0m         response\u001b[39m.\u001b[39mget(\u001b[39m'\u001b[39m\u001b[39mvalue\u001b[39m\u001b[39m'\u001b[39m, \u001b[39mNone\u001b[39;00m))\n\u001b[1;32m    <a href='file:///home/s1lex/Documents/Study/dst/env/lib64/python3.10/site-packages/selenium/webdriver/remote/webdriver.py?line=427'>428</a>\u001b[0m     \u001b[39mreturn\u001b[39;00m response\n",
      "File \u001b[0;32m~/Documents/Study/dst/env/lib64/python3.10/site-packages/selenium/webdriver/remote/errorhandler.py:247\u001b[0m, in \u001b[0;36mErrorHandler.check_response\u001b[0;34m(self, response)\u001b[0m\n\u001b[1;32m    <a href='file:///home/s1lex/Documents/Study/dst/env/lib64/python3.10/site-packages/selenium/webdriver/remote/errorhandler.py?line=244'>245</a>\u001b[0m         alert_text \u001b[39m=\u001b[39m value[\u001b[39m'\u001b[39m\u001b[39malert\u001b[39m\u001b[39m'\u001b[39m]\u001b[39m.\u001b[39mget(\u001b[39m'\u001b[39m\u001b[39mtext\u001b[39m\u001b[39m'\u001b[39m)\n\u001b[1;32m    <a href='file:///home/s1lex/Documents/Study/dst/env/lib64/python3.10/site-packages/selenium/webdriver/remote/errorhandler.py?line=245'>246</a>\u001b[0m     \u001b[39mraise\u001b[39;00m exception_class(message, screen, stacktrace, alert_text)  \u001b[39m# type: ignore[call-arg]  # mypy is not smart enough here\u001b[39;00m\n\u001b[0;32m--> <a href='file:///home/s1lex/Documents/Study/dst/env/lib64/python3.10/site-packages/selenium/webdriver/remote/errorhandler.py?line=246'>247</a>\u001b[0m \u001b[39mraise\u001b[39;00m exception_class(message, screen, stacktrace)\n",
      "\u001b[0;31mElementNotInteractableException\u001b[0m: Message: Element <iframe id=\"uc-cross-domain-bridge\" src=\"https://app.usercentrics.eu/browser-sdk/4.0.0/cross-domain-bridge.html\"> could not be scrolled into view\nStacktrace:\nWebDriverError@chrome://remote/content/shared/webdriver/Errors.jsm:183:5\nElementNotInteractableError@chrome://remote/content/shared/webdriver/Errors.jsm:293:5\nwebdriverClickElement@chrome://remote/content/marionette/interaction.js:156:11\ninteraction.clickElement@chrome://remote/content/marionette/interaction.js:125:11\nclickElement@chrome://remote/content/marionette/actors/MarionetteCommandsChild.jsm:203:24\nreceiveMessage@chrome://remote/content/marionette/actors/MarionetteCommandsChild.jsm:91:31\n"
     ]
    }
   ],
   "source": [
    "btns= driver.find_elements(by=By.XPATH,value=\"//button\")\n",
    "\n",
    "for btn in btns:\n",
    "    print(btn.text)\n",
    "#btns[2].click()\n",
    "#/div/div/div/div/div[2]/div/div[2]/div/div/div/button[1]\n",
    "driver.find_elements(By.XPATH,value = \"//iframe\")[0].click()"
   ]
  }
 ],
 "metadata": {
  "interpreter": {
   "hash": "48484194f1ef72043600fadcbd40718d7198cba50bb691e1e35b0aaefe3cd17f"
  },
  "kernelspec": {
   "display_name": "Python 3.10.4 ('env': venv)",
   "language": "python",
   "name": "python3"
  },
  "language_info": {
   "codemirror_mode": {
    "name": "ipython",
    "version": 3
   },
   "file_extension": ".py",
   "mimetype": "text/x-python",
   "name": "python",
   "nbconvert_exporter": "python",
   "pygments_lexer": "ipython3",
   "version": "3.10.4"
  },
  "orig_nbformat": 4
 },
 "nbformat": 4,
 "nbformat_minor": 2
}
