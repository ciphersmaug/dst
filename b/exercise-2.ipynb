{
 "cells": [
  {
   "cell_type": "code",
   "execution_count": 118,
   "metadata": {},
   "outputs": [],
   "source": [
    "max_pocessing = 15 ## Set this value for the amount of maximum rows you want to process. Google Scholar has quite a few researchers"
   ]
  },
  {
   "cell_type": "code",
   "execution_count": 119,
   "metadata": {},
   "outputs": [],
   "source": [
    "from selenium import webdriver\n",
    "from selenium.webdriver.common.keys import Keys\n",
    "from selenium.webdriver.common.by import By\n",
    "\n",
    "driver = webdriver.Firefox()\n",
    "driver.get(\"https://scholar.google.de/citations?view_op=view_org&hl=en&org=15309337599806254000\")"
   ]
  },
  {
   "cell_type": "code",
   "execution_count": 120,
   "metadata": {},
   "outputs": [],
   "source": [
    "def get_researchers():\n",
    "    researchers = []\n",
    "    elems = driver.find_elements(by=By.XPATH,value=\"//h3[@class='gs_ai_name']/a\")\n",
    "    for elem in elems:\n",
    "      f,*m,l = elem.text.split(\" \")\n",
    "      researchers.append([f,m,l])\n",
    "    return researchers"
   ]
  },
  {
   "cell_type": "code",
   "execution_count": 121,
   "metadata": {},
   "outputs": [],
   "source": [
    "btn = driver.find_element(by=By.XPATH,value='//button[@class=\"gs_btnPR gs_in_ib gs_btn_half gs_btn_lsb gs_btn_srt gsc_pgn_pnx\"]')\n",
    "researchers = []\n",
    "while btn:\n",
    "    if len(researchers) >= max_pocessing:\n",
    "        break\n",
    "    researchers += get_researchers()\n",
    "    btn.click()\n",
    "    btn = driver.find_element(by=By.XPATH,value='//button[@class=\"gs_btnPR gs_in_ib gs_btn_half gs_btn_lsb gs_btn_srt gsc_pgn_pnx\"]')   \n"
   ]
  },
  {
   "cell_type": "code",
   "execution_count": 122,
   "metadata": {},
   "outputs": [],
   "source": [
    "driver.close()"
   ]
  },
  {
   "cell_type": "code",
   "execution_count": 123,
   "metadata": {},
   "outputs": [],
   "source": [
    "import pandas as pd\n",
    "df = pd.DataFrame(researchers, columns=['name', 'middle_name', 'last_name'])\n"
   ]
  },
  {
   "cell_type": "code",
   "execution_count": 124,
   "metadata": {},
   "outputs": [],
   "source": [
    "import requests\n",
    "from bs4 import BeautifulSoup\n",
    "my_url = \"https://www.gpeters.com/names/baby-names.php\"\n",
    "my_header = {\"User-Agent\": \"Mozilla/5.0 (Macintosh; Intel Mac OS X 10.15; rv:101.0) Gecko/20100101 Firefox/101.0\"}"
   ]
  },
  {
   "cell_type": "code",
   "execution_count": 125,
   "metadata": {},
   "outputs": [],
   "source": [
    "def lookup_name(row:pd.Series)->pd.Series:\n",
    "    request_url = f\"{my_url}?name={row['name']}\"\n",
    "    content = requests.get(url=request_url,headers=my_header).content\n",
    "    soup = BeautifulSoup(content,\"html.parser\")\n",
    "    try:\n",
    "        row[\"gender_result\"] = \"female\" if \"girl\" in soup.find(\"div\",{\"class\": \"gender-result\"}).find(\"h1\").contents[0] else \"male\"\n",
    "    except Exception as e:\n",
    "        row[\"gender_result\"] = \"error\"\n",
    "        return row\n",
    "    number_of_results=len(soup.find(\"div\",{\"class\": \"gender-result\"}).find_all(\"p\"))\n",
    "    try:\n",
    "        if number_of_results == 1:\n",
    "            row[\"likelyhood_result\"] = None\n",
    "            row[\"popularity_result\"] = float(soup.find(\"div\",{\"class\": \"gender-result\"}).find_all(\"p\")[0].contents[0].split(\" \")[5])\n",
    "        elif number_of_results == 2:\n",
    "            row[\"likelyhood_result\"] = float(soup.find(\"div\",{\"class\": \"gender-result\"}).find_all(\"p\")[0].contents[0].split(\" \")[6])\n",
    "            row[\"popularity_result\"] = float(soup.find(\"div\",{\"class\": \"gender-result\"}).find_all(\"p\")[1].contents[0].split(\" \")[5])\n",
    "    except Exception as e:\n",
    "        row[\"gender_result\"] = \"error\"\n",
    "    return(row)"
   ]
  },
  {
   "cell_type": "code",
   "execution_count": 127,
   "metadata": {},
   "outputs": [],
   "source": [
    "results_df = df.head(max_pocessing).apply(lookup_name, axis=1)"
   ]
  },
  {
   "cell_type": "code",
   "execution_count": 128,
   "metadata": {},
   "outputs": [
    {
     "name": "stdout",
     "output_type": "stream",
     "text": [
      "male     0.933333\n",
      "error    0.066667\n",
      "Name: gender_result, dtype: float64\n"
     ]
    },
    {
     "data": {
      "image/png": "[encoded data removed]",
      "text/plain": [
       "<Figure size 432x288 with 1 Axes>"
      ]
     },
     "metadata": {},
     "output_type": "display_data"
    }
   ],
   "source": [
    "results_df[\"gender_result\"].value_counts(normalize=True).plot(kind=\"pie\")\n",
    "print(results_df[\"gender_result\"].value_counts(normalize=True))"
   ]
  }
 ],
 "metadata": {
  "interpreter": {
   "hash": "767d51c1340bd893661ea55ea3124f6de3c7a262a8b4abca0554b478b1e2ff90"
  },
  "kernelspec": {
   "display_name": "Python 3.10.4 64-bit",
   "language": "python",
   "name": "python3"
  },
  "language_info": {
   "codemirror_mode": {
    "name": "ipython",
    "version": 3
   },
   "file_extension": ".py",
   "mimetype": "text/x-python",
   "name": "python",
   "nbconvert_exporter": "python",
   "pygments_lexer": "ipython3",
   "version": "3.10.4"
  },
  "orig_nbformat": 4
 },
 "nbformat": 4,
 "nbformat_minor": 2
}
