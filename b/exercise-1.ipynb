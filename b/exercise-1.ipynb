{
 "cells": [
  {
   "cell_type": "markdown",
   "metadata": {},
   "source": [
    "# Exercise 1: Static Page Web crawling\n",
    "Implement a web crawler that retrieves the (estimated) gender of a list of given first names\n",
    "from the website\n",
    "https://www.gpeters.com/names/baby-names.php\n",
    "The source file `names.csv` provides a list of names."
   ]
  },
  {
   "cell_type": "code",
   "execution_count": 14,
   "metadata": {},
   "outputs": [],
   "source": [
    "import pandas as pd\n",
    "names_df = pd.read_csv(\"names.csv\")\n",
    "names_df[\"gender_result\"] = None\n",
    "names_df[\"likelyhood_result\"] = None\n",
    "names_df[\"popularity_result\"] = None\n",
    "names_df[\"match\"] = None"
   ]
  },
  {
   "cell_type": "code",
   "execution_count": 15,
   "metadata": {},
   "outputs": [],
   "source": [
    "import requests\n",
    "from bs4 import BeautifulSoup\n",
    "my_url = \"https://www.gpeters.com/names/baby-names.php\"\n",
    "my_header = {\"User-Agent\": \"Mozilla/5.0 (Macintosh; Intel Mac OS X 10.15; rv:101.0) Gecko/20100101 Firefox/101.0\"}"
   ]
  },
  {
   "cell_type": "code",
   "execution_count": 16,
   "metadata": {},
   "outputs": [],
   "source": [
    "def lookup_name(row:pd.Series)->pd.Series:\n",
    "    request_url = f\"{my_url}?name={row['name']}\"\n",
    "    content = requests.get(url=request_url,headers=my_header).content\n",
    "    soup = BeautifulSoup(content,\"html.parser\")\n",
    "\n",
    "    row[\"gender_result\"] = \"female\" if \"girl\" in soup.find(\"div\",{\"class\": \"gender-result\"}).find(\"h1\").contents[0] else \"male\"\n",
    "    row[\"match\"] = row[\"gender_result\"] == row[\"sex_whattoexpectcom\"]\n",
    "\n",
    "    number_of_results=len(soup.find(\"div\",{\"class\": \"gender-result\"}).find_all(\"p\"))\n",
    "    try:\n",
    "        if number_of_results == 1:\n",
    "            row[\"likelyhood_result\"] = None\n",
    "            row[\"popularity_result\"] = float(soup.find(\"div\",{\"class\": \"gender-result\"}).find_all(\"p\")[0].contents[0].split(\" \")[5])\n",
    "        elif number_of_results == 2:\n",
    "            row[\"likelyhood_result\"] = float(soup.find(\"div\",{\"class\": \"gender-result\"}).find_all(\"p\")[0].contents[0].split(\" \")[6])\n",
    "            row[\"popularity_result\"] = float(soup.find(\"div\",{\"class\": \"gender-result\"}).find_all(\"p\")[1].contents[0].split(\" \")[5])\n",
    "    except Exception as e:\n",
    "        row[\"gender_result\"] = \"error\"\n",
    "    return(row)"
   ]
  },
  {
   "cell_type": "code",
   "execution_count": 18,
   "metadata": {},
   "outputs": [],
   "source": [
    "#names_df = names_df.apply(lookup_name, axis=1)\n",
    "names_df = names_df.head(10).apply(lookup_name, axis=1)"
   ]
  },
  {
   "cell_type": "code",
   "execution_count": 20,
   "metadata": {},
   "outputs": [],
   "source": [
    "names_df.to_csv(\"checked_names.csv\",index=False)"
   ]
  }
 ],
 "metadata": {
  "interpreter": {
   "hash": "48484194f1ef72043600fadcbd40718d7198cba50bb691e1e35b0aaefe3cd17f"
  },
  "kernelspec": {
   "display_name": "Python 3.10.4 ('env': venv)",
   "language": "python",
   "name": "python3"
  },
  "language_info": {
   "codemirror_mode": {
    "name": "ipython",
    "version": 3
   },
   "file_extension": ".py",
   "mimetype": "text/x-python",
   "name": "python",
   "nbconvert_exporter": "python",
   "pygments_lexer": "ipython3",
   "version": "3.10.4"
  },
  "orig_nbformat": 4
 },
 "nbformat": 4,
 "nbformat_minor": 2
}
